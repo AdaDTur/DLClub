{
  "nbformat": 4,
  "nbformat_minor": 0,
  "metadata": {
    "colab": {
      "name": "BigTiddyGothGf.ipynb",
      "provenance": []
    },
    "kernelspec": {
      "name": "python3",
      "display_name": "Python 3"
    }
  },
  "cells": [
    {
      "cell_type": "code",
      "metadata": {
        "id": "fqGoWjwfDXpW",
        "colab_type": "code",
        "colab": {}
      },
      "source": [
        "import numpy as np\n",
        "import torch\n",
        "import torch.nn as nn\n",
        "import torch.optim as optim\n",
        "from torch.utils.data import Dataset, DataLoader"
      ],
      "execution_count": null,
      "outputs": []
    },
    {
      "cell_type": "code",
      "metadata": {
        "id": "ab1SB7eyF4ro",
        "colab_type": "code",
        "colab": {
          "base_uri": "https://localhost:8080/",
          "height": 51
        },
        "outputId": "90adf5f9-ae03-401c-ee94-20d33006cdbe"
      },
      "source": [
        "input_1d = torch.tensor([1, 2, 3, 4, 5, 6, 7, 8, 9, 10], dtype = torch.float)\n",
        "input_2d = torch.tensor([[1, 2, 3, 4, 5], [6, 7, 8, 9, 10]], dtype = torch.float)\n",
        "input_2d_img = torch.tensor([[[1, 2, 3, 4, 5, 6, 7, 8, 9, 10], [1, 2, 3, 4, 5, 6, 7, 8, 9, 10], \n",
        "                              [1, 2, 3, 4, 5, 6, 7, 8, 9, 10]], [[1, 2, 3, 4, 5, 6, 7, 8, 9, 10], \n",
        "                              [1, 2, 3, 4, 5, 6, 7, 8, 9, 10], [1, 2, 3, 4, 5, 6, 7, 8, 9, 10]], \n",
        "                              [[1, 2, 3, 4, 5, 6, 7, 8, 9, 10], [1, 2, 3, 4, 5, 6, 7, 8, 9, 10],\n",
        "                               [1, 2, 3, 4, 5, 6, 7, 8, 9, 10]]], dtype = torch.float)\n",
        "\n",
        "print(input_1d.shape)\n",
        "input_1d = input_1d.unsqueeze(0).unsqueeze(0)\n",
        "print(input_1d.shape)"
      ],
      "execution_count": null,
      "outputs": [
        {
          "output_type": "stream",
          "text": [
            "torch.Size([10])\n",
            "torch.Size([1, 1, 10])\n"
          ],
          "name": "stdout"
        }
      ]
    },
    {
      "cell_type": "code",
      "metadata": {
        "id": "TvSvhmrwGS0P",
        "colab_type": "code",
        "colab": {
          "base_uri": "https://localhost:8080/",
          "height": 103
        },
        "outputId": "1e07b997-e269-486b-b67d-97d919fd0e41"
      },
      "source": [
        "cnn1d_1 = nn.Conv1d(in_channels=1, out_channels=1, kernel_size=3, stride=2)\n",
        "print(\"cnn1d_1: \\n\")\n",
        "print(cnn1d_1(input_1d).shape, \"\\n\")\n",
        "print(cnn1d_1(input_1d))"
      ],
      "execution_count": null,
      "outputs": [
        {
          "output_type": "stream",
          "text": [
            "cnn1d_1: \n",
            "\n",
            "torch.Size([1, 1, 4]) \n",
            "\n",
            "tensor([[[0.5130, 1.2949, 2.0768, 2.8587]]], grad_fn=<SqueezeBackward1>)\n"
          ],
          "name": "stdout"
        }
      ]
    },
    {
      "cell_type": "code",
      "metadata": {
        "id": "YBobLkrHI7qQ",
        "colab_type": "code",
        "colab": {
          "base_uri": "https://localhost:8080/",
          "height": 34
        },
        "outputId": "5214e546-4027-4934-beef-1f965a4ab447"
      },
      "source": [
        "input_2d = input_2d.unsqueeze(0)\n",
        "input_2d.shape"
      ],
      "execution_count": null,
      "outputs": [
        {
          "output_type": "execute_result",
          "data": {
            "text/plain": [
              "torch.Size([1, 2, 5])"
            ]
          },
          "metadata": {
            "tags": []
          },
          "execution_count": 18
        }
      ]
    },
    {
      "cell_type": "code",
      "metadata": {
        "id": "S2k9WCGaI9mn",
        "colab_type": "code",
        "colab": {
          "base_uri": "https://localhost:8080/",
          "height": 103
        },
        "outputId": "537d676d-dd4e-462b-c85a-a63e1a286f7b"
      },
      "source": [
        "cnn1d_5 = nn.Conv1d(in_channels=2, out_channels=1, kernel_size=3, stride=1)\n",
        "print(\"cnn1d_5: \\n\")\n",
        "print(cnn1d_5(input_2d).shape, \"\\n\")\n",
        "print(cnn1d_5(input_2d))"
      ],
      "execution_count": null,
      "outputs": [
        {
          "output_type": "stream",
          "text": [
            "cnn1d_5: \n",
            "\n",
            "torch.Size([1, 1, 3]) \n",
            "\n",
            "tensor([[[ 0.0633, -0.0406, -0.1445]]], grad_fn=<SqueezeBackward1>)\n"
          ],
          "name": "stdout"
        }
      ]
    }
  ]
}